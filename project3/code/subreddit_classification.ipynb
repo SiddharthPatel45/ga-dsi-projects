{
 "cells": [
  {
   "cell_type": "markdown",
   "metadata": {},
   "source": [
    "# Project 3: Reddit API & Subreddit Classification"
   ]
  },
  {
   "cell_type": "markdown",
   "metadata": {},
   "source": [
    "This is the third project done as part of the General Assembly's Data Science Immersive in June 2021.\n",
    "\n",
    "## Overview\n",
    "\n",
    "Using the text classification capabilities of some machine learning models, we try to analyse data collected from a public website on two _similar but different_ topics, and train an algorithm which will classify the text as belonging to one or the other topic. This category of machine learning is known as NLP, or natural language processing, where a piece of code learns to understand the language we humans speak. This project is a very shallow dip into this field, in the sense that we use some very basic tools to achieve something impressive. The goal here is to classify a post from reddit correctly by predicting which subreddit it belongs to.\n",
    "\n",
    "\n",
    "### Problem Statement\n",
    "\n",
    "**To resolve a bet among a group of friends, who is more _creative_ $-$ [Filmmakers](https://www.reddit.com/r/Filmmakers/) or [Screenwriting](https://www.reddit.com/r/Screenwriting/)? To answer this question, we get some posts from the two subreddits from [reddit.com](https://www.reddit.com/), and see if we can differentiate between the two roles simply by analysing the text in the posts from the members of those subreddits.**\n",
    "\n",
    "---\n",
    "\n",
    "## Executive Summary\n",
    "\n",
    "Creativity is a subjective phenomenon, which can mean different things to different people. For the purpose of this project, however, we make certain assumptions to answer our main problem statement, like, we will check posts from which role talks more about new ideas, or characters, or techniques, and so on. We begin by scraping the reddit website using its API for our data collection process, which is collecting as much text from the two subreddits, **Filmmakers & Screenwriting**, as possible. The reddit API limits the maximum number of posts one can scrape at a time, and given that we need unique posts, we aim to collect about 700~1000 unique posts for both subreddits.\n",
    "\n",
    "Then we use simple techniques to extract useful text information from the posts, which is the _Title, Subreddit, and Selftext_ and save all this info into a CSV through a `pandas` DataFrame. Next, we perform some primitive cleaning steps to remove any symbols, urls, numbers that are not english character, because these don't provide us any useful information. The data we are looking for are words and phrases which can be used to describe the topics we are exploring.\n",
    "\n",
    "After getting all this setup, we move to model building, where we train the _classification_ models from the `sklearn` library and then pass the posts to models to predict which subreddit it belongs to. Since any machine learning model can only take numbers as inputs, we use **bag-of-words** model to vectorize the text into a frequency table of each individual _token_ (or words) for the entire dataset. This is one of the simplest and widely used method, in which the number of times a word appears in the text is stored in a table.\n",
    "\n",
    "There are many parameters which can be changed for the vectorizer and the model, that are tuned using the `Pipeline` and `GridSearchCV` methods to \"search\" for the best set of parameters to give good results. The results here are scored in terms of _accuracy_, which is the default score for all classification models in the `sklearn` library. An accuracy score is the ratio of the number of predictions the model got correct, over the total number of predictions it made. It is an easy-to-understand metric and for this project is a good measure of model performance to show at quick glance how many observations did we classify correctly, but might not give the complete understanding of the way the model behaves, especially when it comes to analysing the _misclassified_ data. The conclusions of how our model classifies the two roles of _Filmmakers & Screenwriting_ along with some recommendations are made at the end.\n",
    "\n",
    "### Contents\n",
    "\n",
    "The contents of this notebook are as follows:\n",
    "\n",
    "- [1 Data import](#1-Data-import)\n",
    " - [1.1 Import libraries](#1.1-Import-libraries)\n",
    " - [1.2 Get the data](#1.2-Get-the-data)\n",
    "- [2 Preprocessing text](#2-Preprocessing-text)\n",
    " - [2.1 Clean text](#2.1-Clean-text)\n",
    " - [2.2 Analyse text](#2.2-Analyse-text)\n",
    " - [2.3 Transform text](#2.3-Transform-text)\n",
    "- [3 Building models](#3-Building-models)\n",
    "- [4 Pipelines & parameter tuning](#4-Pipelines-&-parameter-tuning)\n",
    " - [4.1 Create pipelines](#4.1-Create-pipelines)\n",
    " - [4.2 Grid searching](#4.2-Grid-searching)\n",
    "- [5 Evaluation](#5-Evaluation)\n",
    " - [5.1 Best Model](#5.1-Best-Model)\n",
    " - [5.2 Metrics](#5.2-Metrics)\n",
    " - [5.3 Misclassification](#5.3-Misclassification)\n",
    "- [6 Conclusion and Recommendations](#6-Conclusion-and-Recommendations) "
   ]
  },
  {
   "cell_type": "markdown",
   "metadata": {},
   "source": [
    "## 1 Data import\n",
    "\n",
    "As stated, we aim to collect about 700~1000 posts for each subreddit from the website, using the reddit API. We use `requests` package to scrape the posts in a loop to cheque unique posts and save it to CSV using the DataFrame. The data we get is in JSON object and we convert it to python dictionaries to extract the relevant info. Some tricks are used in the function so as to not overload the server requests sent from our machine.\n",
    "\n",
    "**Note**: Some initialization variables are created to facilitate re-running of the code.\n",
    "\n",
    "### 1.1 Import libraries\n",
    "\n",
    "First we import the required libraries and packages."
   ]
  },
  {
   "cell_type": "code",
   "execution_count": 1,
   "metadata": {},
   "outputs": [],
   "source": [
    "# Data manipulation and support\n",
    "import pandas as pd\n",
    "import numpy as np\n",
    "import requests\n",
    "import random\n",
    "import time\n",
    "import os\n",
    "\n",
    "# NLP and text processing\n",
    "import regex as re\n",
    "from nltk.stem import WordNetLemmatizer\n",
    "from nltk.corpus import stopwords\n",
    "\n",
    "# sklearn transformers\n",
    "from sklearn.model_selection import train_test_split\n",
    "from sklearn.model_selection import cross_val_score\n",
    "from sklearn.feature_extraction.text import CountVectorizer\n",
    "from sklearn.feature_extraction.text import TfidfVectorizer\n",
    "\n",
    "# sklearn models\n",
    "from sklearn.linear_model import LogisticRegression\n",
    "from sklearn.naive_bayes import MultinomialNB\n",
    "from sklearn.svm import SVC\n",
    "\n",
    "# sklearn hyperparameter tuning and metrics\n",
    "from sklearn.pipeline import Pipeline\n",
    "from sklearn.model_selection import GridSearchCV\n",
    "from sklearn.metrics import confusion_matrix, roc_auc_score\n",
    "from sklearn.metrics import plot_confusion_matrix, plot_roc_curve\n",
    "\n",
    "# plotting tools\n",
    "import seaborn as sns\n",
    "import matplotlib.pyplot as plt\n",
    "\n",
    "# plotting settings\n",
    "%matplotlib inline\n",
    "# sns.set_style('whitegrid') # darkgrid\n",
    "%config InlineBackend.figure_format = 'retina'"
   ]
  },
  {
   "cell_type": "code",
   "execution_count": 2,
   "metadata": {},
   "outputs": [],
   "source": [
    "# plot font settings\n",
    "# Implented plot text sizes from- https://stackoverflow.com/questions/3899980/how-to-change-the-font-size-on-a-matplotlib-plot\n",
    "SMALL_SIZE = 14\n",
    "MEDIUM_SIZE = 16\n",
    "BIGGER_SIZE = 22\n",
    "\n",
    "plt.rc('font', size=SMALL_SIZE)          # controls default text sizes\n",
    "plt.rc('axes', titlesize=MEDIUM_SIZE)    # fontsize of the axes title\n",
    "plt.rc('axes', labelsize=SMALL_SIZE)     # fontsize of the x and y labels\n",
    "plt.rc('xtick', labelsize=SMALL_SIZE)    # fontsize of the tick labels\n",
    "plt.rc('ytick', labelsize=SMALL_SIZE)    # fontsize of the tick labels\n",
    "plt.rc('legend', fontsize=SMALL_SIZE)    # legend fontsize\n",
    "plt.rc('figure', titlesize=BIGGER_SIZE)  # fontsize of the figure title"
   ]
  },
  {
   "cell_type": "markdown",
   "metadata": {},
   "source": [
    "#### Initialize variables\n",
    "\n",
    "Let's initialize some control variables."
   ]
  },
  {
   "cell_type": "code",
   "execution_count": 3,
   "metadata": {},
   "outputs": [],
   "source": [
    "# A boolean flag to control whether or not to use local datasets\n",
    "use_local_files = True\n",
    "\n",
    "# List of subreddits (both of them have more than 1M followers and are active subreddits)\n",
    "subreddits = ['Filmmakers', 'Screenwriting']\n",
    "\n",
    "# create subreddit url\n",
    "url = lambda x: f\"https://www.reddit.com/r/{x}/.json\"\n",
    "\n",
    "# relative path to the datasets\n",
    "file_path = lambda x: f\"../datasets/{x}.csv\""
   ]
  },
  {
   "cell_type": "markdown",
   "metadata": {},
   "source": [
    "#### Define functions\n",
    "\n",
    "Create functions to handle the data scraping from reddit's API and save the data to csv."
   ]
  },
  {
   "cell_type": "code",
   "execution_count": 4,
   "metadata": {},
   "outputs": [],
   "source": [
    "# function to save the filtered posts to csv\n",
    "def save_posts_csv(posts, sr):\n",
    "    \n",
    "    titles = []\n",
    "    selftexts = []\n",
    "    subreddits = []\n",
    "    \n",
    "    for idx in range(len(posts)):\n",
    "        titles.append(posts[idx]['title'])\n",
    "        selftexts.append(posts[idx]['selftext'])\n",
    "        subreddits.append(posts[idx]['subreddit'])\n",
    "        \n",
    "    # Save the features into dictionary\n",
    "    final_dict = {\n",
    "        'Subreddit': subreddits,\n",
    "        'Titles': titles,\n",
    "        'Selftext': selftexts\n",
    "    }\n",
    "    \n",
    "    if not os.path.exists(file_path(sr)):\n",
    "        pd.DataFrame(final_dict).to_csv(file_path(sr), index=False)\n",
    "    else:\n",
    "        prev_posts = pd.read_csv(file_path(sr))\n",
    "        current_df = pd.DataFrame(final_dict.values())\n",
    "        pd.concat([prev_posts, current_df]).to_csv(file_path(sr), index=False)\n",
    "    \n",
    "    print(f\"Saved {len(posts)} posts for {sr}\")"
   ]
  },
  {
   "cell_type": "code",
   "execution_count": 5,
   "metadata": {},
   "outputs": [],
   "source": [
    "# Get the subreddit data from reddit api, save unique posts to list and call save_posts_csv()\n",
    "def get_reddit_posts(subreddit, num_posts=25, after=None):\n",
    "    \n",
    "    # while loop control variable\n",
    "    run = 0\n",
    "    \n",
    "    unique_names = set()\n",
    "    posts_collected = 0\n",
    "    posts = []\n",
    "\n",
    "    # Run a while loop until requested number of unique posts are collected\n",
    "    while (posts_collected <= num_posts) and (run <= int(num_posts/25)):\n",
    "        reddit_posts = []\n",
    "        \n",
    "        # change the user agent for each run\n",
    "        headers = {'User-agent': f'Pony Inc 1.{run}'}\n",
    "        \n",
    "        # define the after which gets id of last subreddit in each request\n",
    "        if after == None:\n",
    "            params = {}\n",
    "        else:\n",
    "            params = {'after': after}\n",
    "            \n",
    "        # make request from reddit api\n",
    "        res = requests.get(url(subreddit), params=params, headers=headers)\n",
    "\n",
    "        # check for success\n",
    "        if res.status_code != 200:\n",
    "            print('Status error', res.status_code)\n",
    "            break\n",
    "\n",
    "        # get the json from result\n",
    "        reddit_dict = res.json()\n",
    "        \n",
    "        # check each id and save only unique ones\n",
    "        for post in reddit_dict['data']['children']:\n",
    "            if post['data']['name'] not in unique_names:\n",
    "                unique_names.add(post['data']['name'])\n",
    "                reddit_posts.append(post['data'])\n",
    "                posts_collected += 1\n",
    "\n",
    "        posts.extend(reddit_posts)\n",
    "        after = reddit_dict['data']['after']\n",
    "\n",
    "        # generate a random sleep duration to look more 'natural'\n",
    "        sleep_duration = random.randint(2,6)\n",
    "        # print(sleep_duration, len(unique_ids), len(reddit_posts), after) # debug\n",
    "        time.sleep(sleep_duration)\n",
    "    \n",
    "        # track number of runs to exit while loop\n",
    "        run += 1\n",
    "\n",
    "    # call the save_posts_csv() to save the data collected\n",
    "    save_posts_csv(posts, subreddit)"
   ]
  },
  {
   "cell_type": "markdown",
   "metadata": {},
   "source": [
    "### 1.2 Get the data\n",
    "\n",
    "Use data either from reddit or the local saved files. Check the `use_local_files` flag above. Default is set to use local files, set to `False` to get new data."
   ]
  },
  {
   "cell_type": "code",
   "execution_count": 6,
   "metadata": {},
   "outputs": [],
   "source": [
    "# if not using local files, get from reddit\n",
    "if not use_local_files:\n",
    "    for sr in subreddits:\n",
    "        get_reddit_posts(subreddit=sr, num_posts=1200)\n",
    "else:\n",
    "    try:\n",
    "        pd.read_csv(file_path(subreddits[0]))\n",
    "    except FileNotFoundError:\n",
    "        for sr in subreddits:\n",
    "            get_reddit_posts(subreddit=sr, num_posts=1200)\n",
    "        \n",
    "# read the data to Dataframes\n",
    "df = pd.concat([pd.read_csv(file_path(subreddits[0])), pd.read_csv(file_path(subreddits[1]))])"
   ]
  },
  {
   "cell_type": "markdown",
   "metadata": {},
   "source": [
    "## 2 Preprocessing text\n",
    "\n",
    "Since this data is from a public webpage, it is not expected to be consistent. So, here we examine the data and address issues with missing values, removing the text which would not necessarily contribute to model building, that includes urls, numbers, punctuation marks etc. We do this to clean the data before vectorizing it into individual words and using it to train the models later. Additionally, we also binarize the target column to create the classification classes, _subreddit 1 & subreddit 2_.\n",
    "\n",
    "**Note:** The subreddit topics are also removed from the text to remove any unique reference that can skew model classification results."
   ]
  },
  {
   "cell_type": "code",
   "execution_count": 7,
   "metadata": {},
   "outputs": [
    {
     "data": {
      "text/plain": [
       "(1722, 3)"
      ]
     },
     "execution_count": 7,
     "metadata": {},
     "output_type": "execute_result"
    }
   ],
   "source": [
    "df.shape"
   ]
  },
  {
   "cell_type": "code",
   "execution_count": 8,
   "metadata": {},
   "outputs": [
    {
     "data": {
      "text/plain": [
       "Screenwriting    982\n",
       "Filmmakers       740\n",
       "Name: Subreddit, dtype: int64"
      ]
     },
     "execution_count": 8,
     "metadata": {},
     "output_type": "execute_result"
    }
   ],
   "source": [
    "df['Subreddit'].value_counts()"
   ]
  },
  {
   "cell_type": "markdown",
   "metadata": {},
   "source": [
    "We have $1722$ observations in the dataframe consisting of titles, text, and which subreddit it belongs to for both subreddits. There are $982$ posts from **Screenwriting** subreddit and $740$ from **Filmmarkers**."
   ]
  },
  {
   "cell_type": "code",
   "execution_count": 9,
   "metadata": {},
   "outputs": [
    {
     "data": {
      "text/plain": [
       "Subreddit      0\n",
       "Titles         0\n",
       "Selftext     382\n",
       "dtype: int64"
      ]
     },
     "execution_count": 9,
     "metadata": {},
     "output_type": "execute_result"
    }
   ],
   "source": [
    "df.isna().sum()"
   ]
  },
  {
   "cell_type": "markdown",
   "metadata": {},
   "source": [
    "Here we see that our dataset has $382$ missing values in the _Selftext_ column, which we can replace with an empty string, because these posts only have titles and no other text content."
   ]
  },
  {
   "cell_type": "code",
   "execution_count": 10,
   "metadata": {},
   "outputs": [],
   "source": [
    "# replace NaNs with empty string\n",
    "df.fillna('', inplace=True)"
   ]
  },
  {
   "cell_type": "markdown",
   "metadata": {},
   "source": [
    "After replacing all missing values with empty string, we can combine the title and the post text content into a single column, _Text_, which we will use as our feature for the modeling process. This is done to include:\n",
    "- observations with missing text content\n",
    "- titles as part of the modeling as well"
   ]
  },
  {
   "cell_type": "code",
   "execution_count": 11,
   "metadata": {},
   "outputs": [],
   "source": [
    "# Combine title and selftext\n",
    "df['Text'] = df['Titles'] + ' ' + df['Selftext']"
   ]
  },
  {
   "cell_type": "markdown",
   "metadata": {},
   "source": [
    "#### Target distribution\n",
    "\n",
    "The target disribution of the two subreddits in our dataset."
   ]
  },
  {
   "cell_type": "code",
   "execution_count": 12,
   "metadata": {},
   "outputs": [
    {
     "data": {
      "text/plain": [
       "Screenwriting    57.026713\n",
       "Filmmakers       42.973287\n",
       "Name: Subreddit, dtype: float64"
      ]
     },
     "execution_count": 12,
     "metadata": {},
     "output_type": "execute_result"
    }
   ],
   "source": [
    "df['Subreddit'].value_counts(normalize=True) * 100"
   ]
  },
  {
   "cell_type": "markdown",
   "metadata": {},
   "source": [
    "The ratio of $57 - 43$ can be considered as a _balanced_ class division, in that no one class significantly dwarfs the other. No extra steps need to taken for this dataset."
   ]
  },
  {
   "cell_type": "markdown",
   "metadata": {},
   "source": [
    "### 2.1 Clean text\n",
    "\n",
    "Here, we clean the text and some of the steps are:\n",
    "- Converting all text to lower case\n",
    "- Remove the subreddit topic reference from the text\n",
    "- Remove any urls\n",
    "- Strip the data of punctuations\n",
    "- Keep only text data and remove numbers\n",
    "- Remove the common _stopwords_"
   ]
  },
  {
   "cell_type": "code",
   "execution_count": 13,
   "metadata": {},
   "outputs": [],
   "source": [
    "# list of subreddit titles and related words to remove from text\n",
    "ref_words = subreddits"
   ]
  },
  {
   "cell_type": "code",
   "execution_count": 14,
   "metadata": {},
   "outputs": [],
   "source": [
    "# function to clean each document; carries out some common steps\n",
    "def clean_document(doc, remove_stop_words=False):\n",
    "    # convert all text to lowercase\n",
    "    doc = doc.lower()\n",
    "    \n",
    "    # remove the subreddit name\n",
    "    for w in ref_words:\n",
    "        doc = doc.replace(w, '')\n",
    "    \n",
    "    # remove urls\n",
    "    doc = re.sub(r'^https?:\\/\\/.*[\\r\\n]*', '', doc, flags=re.MULTILINE)\n",
    "    \n",
    "    # remove punctuation\n",
    "#     doc = re.sub(r'[^\\w\\s]', '', doc)\n",
    "    doc = re.sub(r'[^A-Za-z\\w\\s]+', '', doc)\n",
    "    \n",
    "    # remove numbers\n",
    "    doc = re.sub(r'\\d+', '', doc)\n",
    "    \n",
    "    # remove underscores\n",
    "    doc = re.sub(r'_*', '', doc)\n",
    "    \n",
    "    # remove stopwords\n",
    "    if remove_stop_words:\n",
    "        doc = [word for word in doc.split() if word not in stopwords.words('english')]\n",
    "        return ' '.join(doc)\n",
    "    \n",
    "    return doc"
   ]
  },
  {
   "cell_type": "markdown",
   "metadata": {},
   "source": [
    "Clean the Text column."
   ]
  },
  {
   "cell_type": "code",
   "execution_count": 15,
   "metadata": {},
   "outputs": [],
   "source": [
    "df['Text'] = df['Text'].apply(clean_document)"
   ]
  },
  {
   "cell_type": "markdown",
   "metadata": {},
   "source": [
    "Get a Target column which is `0: Filmmakers, 1: Screenwriting`."
   ]
  },
  {
   "cell_type": "code",
   "execution_count": 16,
   "metadata": {},
   "outputs": [],
   "source": [
    "df['Target'] = df['Subreddit'].apply(lambda x: 0 if x == subreddits[0] else 1)"
   ]
  },
  {
   "cell_type": "markdown",
   "metadata": {},
   "source": [
    "### 2.2 Analyse text\n",
    "\n",
    "Once cleaned, we can do some basic analysis on the text to gain some insights, which can be used to understand the results later. Knowing the text length distribution across the subreddit posts can be used, for example, to explain why certain post might be classified by our model correctly or incorrectly. This is because we use the **bag-of-words** model for this project, which essentially comes down to classifying correctly the set of words that belong to each class of the target variable.\n",
    "\n",
    "Let's create a _clean_ DataFrame with target, text and text length columns."
   ]
  },
  {
   "cell_type": "code",
   "execution_count": 17,
   "metadata": {},
   "outputs": [],
   "source": [
    "df_clean = df[['Target', 'Text']].copy()\n",
    "# let's remove the stop words in the clean DataFrame\n",
    "df_clean['Text'] = df_clean['Text'].apply(clean_document, remove_stop_words=True)\n",
    "\n",
    "df_clean['Text_length'] = df_clean['Text'].apply(lambda x: len(x.split()))"
   ]
  },
  {
   "cell_type": "code",
   "execution_count": 18,
   "metadata": {},
   "outputs": [
    {
     "data": {
      "text/html": [
       "<div>\n",
       "<style scoped>\n",
       "    .dataframe tbody tr th:only-of-type {\n",
       "        vertical-align: middle;\n",
       "    }\n",
       "\n",
       "    .dataframe tbody tr th {\n",
       "        vertical-align: top;\n",
       "    }\n",
       "\n",
       "    .dataframe thead th {\n",
       "        text-align: right;\n",
       "    }\n",
       "</style>\n",
       "<table border=\"1\" class=\"dataframe\">\n",
       "  <thead>\n",
       "    <tr style=\"text-align: right;\">\n",
       "      <th></th>\n",
       "      <th>Target</th>\n",
       "      <th>Text</th>\n",
       "      <th>Text_length</th>\n",
       "    </tr>\n",
       "  </thead>\n",
       "  <tbody>\n",
       "    <tr>\n",
       "      <th>0</th>\n",
       "      <td>0</td>\n",
       "      <td>read asking question official filmmaking faq i...</td>\n",
       "      <td>2863</td>\n",
       "    </tr>\n",
       "    <tr>\n",
       "      <th>354</th>\n",
       "      <td>1</td>\n",
       "      <td>soho house short film contest content httpswww...</td>\n",
       "      <td>992</td>\n",
       "    </tr>\n",
       "    <tr>\n",
       "      <th>279</th>\n",
       "      <td>1</td>\n",
       "      <td>dont think theres ever acephobia script im mak...</td>\n",
       "      <td>820</td>\n",
       "    </tr>\n",
       "    <tr>\n",
       "      <th>150</th>\n",
       "      <td>0</td>\n",
       "      <td>young amateur film directorscreenwriter aiming...</td>\n",
       "      <td>763</td>\n",
       "    </tr>\n",
       "    <tr>\n",
       "      <th>104</th>\n",
       "      <td>1</td>\n",
       "      <td>young amateur film directorscreenwriter aiming...</td>\n",
       "      <td>750</td>\n",
       "    </tr>\n",
       "  </tbody>\n",
       "</table>\n",
       "</div>"
      ],
      "text/plain": [
       "     Target                                               Text  Text_length\n",
       "0         0  read asking question official filmmaking faq i...         2863\n",
       "354       1  soho house short film contest content httpswww...          992\n",
       "279       1  dont think theres ever acephobia script im mak...          820\n",
       "150       0  young amateur film directorscreenwriter aiming...          763\n",
       "104       1  young amateur film directorscreenwriter aiming...          750"
      ]
     },
     "execution_count": 18,
     "metadata": {},
     "output_type": "execute_result"
    }
   ],
   "source": [
    "df_clean.sort_values(by='Text_length', ascending=False).head()"
   ]
  },
  {
   "cell_type": "markdown",
   "metadata": {},
   "source": [
    "The first post for target `0` is unually long and is supposed to be an intro to the subreddit, which is not a good datapoint to train our model on because we want our model to make good predictions on generalized data, we choose to drop this observation."
   ]
  },
  {
   "cell_type": "code",
   "execution_count": 19,
   "metadata": {},
   "outputs": [],
   "source": [
    "df.drop(0, inplace=True)\n",
    "df_clean.drop(0, inplace=True)"
   ]
  },
  {
   "cell_type": "code",
   "execution_count": 20,
   "metadata": {
    "scrolled": true
   },
   "outputs": [
    {
     "data": {
      "text/html": [
       "<div>\n",
       "<style scoped>\n",
       "    .dataframe tbody tr th:only-of-type {\n",
       "        vertical-align: middle;\n",
       "    }\n",
       "\n",
       "    .dataframe tbody tr th {\n",
       "        vertical-align: top;\n",
       "    }\n",
       "\n",
       "    .dataframe thead th {\n",
       "        text-align: right;\n",
       "    }\n",
       "</style>\n",
       "<table border=\"1\" class=\"dataframe\">\n",
       "  <thead>\n",
       "    <tr style=\"text-align: right;\">\n",
       "      <th></th>\n",
       "      <th>count</th>\n",
       "      <th>mean</th>\n",
       "      <th>std</th>\n",
       "      <th>min</th>\n",
       "      <th>25%</th>\n",
       "      <th>50%</th>\n",
       "      <th>75%</th>\n",
       "      <th>max</th>\n",
       "    </tr>\n",
       "  </thead>\n",
       "  <tbody>\n",
       "    <tr>\n",
       "      <th>Text_length</th>\n",
       "      <td>1720.0</td>\n",
       "      <td>52.800581</td>\n",
       "      <td>74.907329</td>\n",
       "      <td>1.0</td>\n",
       "      <td>16.0</td>\n",
       "      <td>33.0</td>\n",
       "      <td>61.0</td>\n",
       "      <td>992.0</td>\n",
       "    </tr>\n",
       "  </tbody>\n",
       "</table>\n",
       "</div>"
      ],
      "text/plain": [
       "              count       mean        std  min   25%   50%   75%    max\n",
       "Text_length  1720.0  52.800581  74.907329  1.0  16.0  33.0  61.0  992.0"
      ]
     },
     "execution_count": 20,
     "metadata": {},
     "output_type": "execute_result"
    }
   ],
   "source": [
    "df_clean[['Text_length']].describe().T"
   ]
  },
  {
   "cell_type": "markdown",
   "metadata": {},
   "source": [
    "The above table summarizes the statistics for the text length and we can see that $75\\%$ of the posts have lengths upto 61 words per post and the mean length of posts is 52 words. Having longer posts, and in turn more data, would be useful to have a more reliable model but because of reddit API's limit we could only scrape so many unique posts at the time of this project.\n",
    " \n",
    "Now, we plot distributions of text length for both the subreddits."
   ]
  },
  {
   "cell_type": "code",
   "execution_count": 21,
   "metadata": {},
   "outputs": [
    {
     "data": {
      "image/png": "[encoded data removed]",
      "text/plain": [
       "<Figure size 1080x504 with 1 Axes>"
      ]
     },
     "metadata": {
      "image/png": {
       "height": 452,
       "width": 916
      },
      "needs_background": "light"
     },
     "output_type": "display_data"
    }
   ],
   "source": [
    "# plot the text length distributions for the posts\n",
    "fig, ax = plt.subplots(figsize=(15, 7))\n",
    "plt.title('Text length distribution for two subreddits (after removing stop words)')\n",
    "sns.histplot(data=df_clean, x='Text_length', kde=True, hue='Target', ax=ax)\n",
    "plt.legend(labels=[ subreddits[1], subreddits[0]])\n",
    "mean_0 = df_clean[df_clean['Target']==0]['Text_length'].mean()\n",
    "mean_1 = df_clean[df_clean['Target']==1]['Text_length'].mean()\n",
    "plt.plot([mean_0, mean_0],[0, 250], '--', linewidth=2)\n",
    "plt.plot([mean_1, mean_1],[0, 250], '--', linewidth=2)\n",
    "plt.ylim([0, 220])\n",
    "plt.xlim([0, 300]);"
   ]
  },
  {
   "cell_type": "markdown",
   "metadata": {},
   "source": [
    "As we can see from the plot above, _after removing the common stop words_, posts from both subreddits are highly skewed to the right with mean text lengths of about $40$ for **Filmmakers** and about $62$ for **Screenwiters** subreddits.\n",
    "\n",
    "Next, let's find the most common words in both subreddits. Here we use two techniques $-$ `CountVectorizer` and `TfidfVectorizer`. The former simply creates a frequency table for unique tokens for each document in the dataset while the latter is a bit more advanced where it penalizes the words that are too frequent across the dataset. Both of these are commonly used in the model building and thus we try both.\n",
    "\n",
    "Listing the top words in both the subreddits should give us an idea of what is unique about the two topics. It can point us what _creativity_ means for two roles and if we can differentiate between them."
   ]
  },
  {
   "cell_type": "code",
   "execution_count": 22,
   "metadata": {},
   "outputs": [],
   "source": [
    "# Instantiate the text modification methods\n",
    "cvec = CountVectorizer()\n",
    "tvec = TfidfVectorizer()"
   ]
  },
  {
   "cell_type": "markdown",
   "metadata": {},
   "source": [
    "**Filmmarkers**"
   ]
  },
  {
   "cell_type": "code",
   "execution_count": 23,
   "metadata": {},
   "outputs": [],
   "source": [
    "com_wrds_s0 = pd.DataFrame(cvec.fit_transform(df_clean[df_clean['Target'] == 0]['Text']).todense(),\n",
    "                               columns=cvec.get_feature_names())"
   ]
  },
  {
   "cell_type": "code",
   "execution_count": 85,
   "metadata": {},
   "outputs": [
    {
     "data": {
      "text/plain": [
       "film       493\n",
       "im         444\n",
       "would      257\n",
       "like       243\n",
       "know       202\n",
       "ive        191\n",
       "short      186\n",
       "get        177\n",
       "want       176\n",
       "make       168\n",
       "one        146\n",
       "dont       146\n",
       "looking    145\n",
       "camera     143\n",
       "video      131\n",
       "work       130\n",
       "time       129\n",
       "people     121\n",
       "really     121\n",
       "need       113\n",
       "dtype: int64"
      ]
     },
     "execution_count": 85,
     "metadata": {},
     "output_type": "execute_result"
    }
   ],
   "source": [
    "# Top 10 most common words in Filmmakers subreddit\n",
    "com_wrds_s0.sum().sort_values(ascending=False).head(20)"
   ]
  },
  {
   "cell_type": "code",
   "execution_count": 25,
   "metadata": {},
   "outputs": [],
   "source": [
    "# Save the common words from subreddit Filmmakers to csv\n",
    "com_wrds_s0.sum().sort_values(ascending=False).to_csv(\n",
    "                f'./../datasets/com_wrds_{subreddits[0]}.csv', header=['freq'])"
   ]
  },
  {
   "cell_type": "markdown",
   "metadata": {},
   "source": [
    "Some of the most common words in the _Filmmakers_ subreddit posts after removing the stop words, like _film_, _make_ are also a direct reference to the subreddit topic and we should remove them."
   ]
  },
  {
   "cell_type": "code",
   "execution_count": 26,
   "metadata": {},
   "outputs": [],
   "source": [
    "ref_words.extend(['film', 'make'])"
   ]
  },
  {
   "cell_type": "markdown",
   "metadata": {},
   "source": [
    "**Screenwriting**"
   ]
  },
  {
   "cell_type": "code",
   "execution_count": 27,
   "metadata": {},
   "outputs": [],
   "source": [
    "com_wrds_s1 = pd.DataFrame(cvec.fit_transform(df_clean[df_clean['Target'] == 1]['Text']).todense(),\n",
    "                               columns=cvec.get_feature_names())"
   ]
  },
  {
   "cell_type": "code",
   "execution_count": 28,
   "metadata": {},
   "outputs": [
    {
     "data": {
      "text/plain": [
       "im          785\n",
       "script      765\n",
       "like        478\n",
       "writing     462\n",
       "would       419\n",
       "ive         380\n",
       "one         346\n",
       "know        342\n",
       "time        302\n",
       "get         298\n",
       "first       297\n",
       "story       296\n",
       "write       294\n",
       "want        285\n",
       "film        263\n",
       "feedback    259\n",
       "dont        259\n",
       "anyone      248\n",
       "read        228\n",
       "also        219\n",
       "dtype: int64"
      ]
     },
     "execution_count": 28,
     "metadata": {},
     "output_type": "execute_result"
    }
   ],
   "source": [
    "# Top 10 most common words in Screenwriting subreddit\n",
    "com_wrds_s1.sum().sort_values(ascending=False).head(20)"
   ]
  },
  {
   "cell_type": "code",
   "execution_count": 29,
   "metadata": {},
   "outputs": [],
   "source": [
    "# Save the common words from subreddit Screenwriting to csv\n",
    "com_wrds_s1.sum().sort_values(ascending=False).to_csv(\n",
    "                f'./../datasets/com_wrds_{subreddits[1]}.csv', header=['freq'])"
   ]
  },
  {
   "cell_type": "markdown",
   "metadata": {},
   "source": [
    "Similarly for the _Screenwriting_ subreddit posts, reference words like _script_, _writing_ can be removed."
   ]
  },
  {
   "cell_type": "code",
   "execution_count": 30,
   "metadata": {},
   "outputs": [],
   "source": [
    "ref_words.extend(['script', 'writing'])"
   ]
  },
  {
   "cell_type": "markdown",
   "metadata": {},
   "source": [
    "#### Common words between the two subreddits\n",
    "\n",
    "List the most frequently used words that are common between the two subreddits."
   ]
  },
  {
   "cell_type": "code",
   "execution_count": 78,
   "metadata": {},
   "outputs": [],
   "source": [
    "# create a dataframe with common words between the two subreddit posts\n",
    "com_wrds_both = pd.concat([com_wrds_s0.sum(), com_wrds_s1.sum()], axis=1).dropna().astype('int')"
   ]
  },
  {
   "cell_type": "code",
   "execution_count": 90,
   "metadata": {},
   "outputs": [
    {
     "data": {
      "text/html": [
       "<div>\n",
       "<style scoped>\n",
       "    .dataframe tbody tr th:only-of-type {\n",
       "        vertical-align: middle;\n",
       "    }\n",
       "\n",
       "    .dataframe tbody tr th {\n",
       "        vertical-align: top;\n",
       "    }\n",
       "\n",
       "    .dataframe thead th {\n",
       "        text-align: right;\n",
       "    }\n",
       "</style>\n",
       "<table border=\"1\" class=\"dataframe\">\n",
       "  <thead>\n",
       "    <tr style=\"text-align: right;\">\n",
       "      <th></th>\n",
       "      <th>0</th>\n",
       "      <th>1</th>\n",
       "    </tr>\n",
       "  </thead>\n",
       "  <tbody>\n",
       "    <tr>\n",
       "      <th>film</th>\n",
       "      <td>493</td>\n",
       "      <td>263</td>\n",
       "    </tr>\n",
       "    <tr>\n",
       "      <th>im</th>\n",
       "      <td>444</td>\n",
       "      <td>785</td>\n",
       "    </tr>\n",
       "    <tr>\n",
       "      <th>would</th>\n",
       "      <td>257</td>\n",
       "      <td>419</td>\n",
       "    </tr>\n",
       "    <tr>\n",
       "      <th>like</th>\n",
       "      <td>243</td>\n",
       "      <td>478</td>\n",
       "    </tr>\n",
       "    <tr>\n",
       "      <th>know</th>\n",
       "      <td>202</td>\n",
       "      <td>342</td>\n",
       "    </tr>\n",
       "    <tr>\n",
       "      <th>ive</th>\n",
       "      <td>191</td>\n",
       "      <td>380</td>\n",
       "    </tr>\n",
       "    <tr>\n",
       "      <th>short</th>\n",
       "      <td>186</td>\n",
       "      <td>191</td>\n",
       "    </tr>\n",
       "    <tr>\n",
       "      <th>get</th>\n",
       "      <td>177</td>\n",
       "      <td>298</td>\n",
       "    </tr>\n",
       "    <tr>\n",
       "      <th>want</th>\n",
       "      <td>176</td>\n",
       "      <td>285</td>\n",
       "    </tr>\n",
       "    <tr>\n",
       "      <th>make</th>\n",
       "      <td>168</td>\n",
       "      <td>208</td>\n",
       "    </tr>\n",
       "  </tbody>\n",
       "</table>\n",
       "</div>"
      ],
      "text/plain": [
       "         0    1\n",
       "film   493  263\n",
       "im     444  785\n",
       "would  257  419\n",
       "like   243  478\n",
       "know   202  342\n",
       "ive    191  380\n",
       "short  186  191\n",
       "get    177  298\n",
       "want   176  285\n",
       "make   168  208"
      ]
     },
     "execution_count": 90,
     "metadata": {},
     "output_type": "execute_result"
    }
   ],
   "source": [
    "com_wrds_both.sort_values(by=0, ascending=False).head(10)"
   ]
  },
  {
   "cell_type": "code",
   "execution_count": 91,
   "metadata": {},
   "outputs": [
    {
     "data": {
      "text/html": [
       "<div>\n",
       "<style scoped>\n",
       "    .dataframe tbody tr th:only-of-type {\n",
       "        vertical-align: middle;\n",
       "    }\n",
       "\n",
       "    .dataframe tbody tr th {\n",
       "        vertical-align: top;\n",
       "    }\n",
       "\n",
       "    .dataframe thead th {\n",
       "        text-align: right;\n",
       "    }\n",
       "</style>\n",
       "<table border=\"1\" class=\"dataframe\">\n",
       "  <thead>\n",
       "    <tr style=\"text-align: right;\">\n",
       "      <th></th>\n",
       "      <th>0</th>\n",
       "      <th>1</th>\n",
       "    </tr>\n",
       "  </thead>\n",
       "  <tbody>\n",
       "    <tr>\n",
       "      <th>im</th>\n",
       "      <td>444</td>\n",
       "      <td>785</td>\n",
       "    </tr>\n",
       "    <tr>\n",
       "      <th>script</th>\n",
       "      <td>42</td>\n",
       "      <td>765</td>\n",
       "    </tr>\n",
       "    <tr>\n",
       "      <th>like</th>\n",
       "      <td>243</td>\n",
       "      <td>478</td>\n",
       "    </tr>\n",
       "    <tr>\n",
       "      <th>writing</th>\n",
       "      <td>37</td>\n",
       "      <td>462</td>\n",
       "    </tr>\n",
       "    <tr>\n",
       "      <th>would</th>\n",
       "      <td>257</td>\n",
       "      <td>419</td>\n",
       "    </tr>\n",
       "    <tr>\n",
       "      <th>ive</th>\n",
       "      <td>191</td>\n",
       "      <td>380</td>\n",
       "    </tr>\n",
       "    <tr>\n",
       "      <th>one</th>\n",
       "      <td>146</td>\n",
       "      <td>346</td>\n",
       "    </tr>\n",
       "    <tr>\n",
       "      <th>know</th>\n",
       "      <td>202</td>\n",
       "      <td>342</td>\n",
       "    </tr>\n",
       "    <tr>\n",
       "      <th>time</th>\n",
       "      <td>129</td>\n",
       "      <td>302</td>\n",
       "    </tr>\n",
       "    <tr>\n",
       "      <th>get</th>\n",
       "      <td>177</td>\n",
       "      <td>298</td>\n",
       "    </tr>\n",
       "  </tbody>\n",
       "</table>\n",
       "</div>"
      ],
      "text/plain": [
       "           0    1\n",
       "im       444  785\n",
       "script    42  765\n",
       "like     243  478\n",
       "writing   37  462\n",
       "would    257  419\n",
       "ive      191  380\n",
       "one      146  346\n",
       "know     202  342\n",
       "time     129  302\n",
       "get      177  298"
      ]
     },
     "execution_count": 91,
     "metadata": {},
     "output_type": "execute_result"
    }
   ],
   "source": [
    "com_wrds_both.sort_values(by=1, ascending=False).head(10)"
   ]
  },
  {
   "cell_type": "markdown",
   "metadata": {},
   "source": []
  },
  {
   "cell_type": "code",
   "execution_count": 80,
   "metadata": {},
   "outputs": [
    {
     "data": {
      "text/plain": [
       "3582"
      ]
     },
     "execution_count": 80,
     "metadata": {},
     "output_type": "execute_result"
    }
   ],
   "source": [
    "com_wrds_both.shape[0]"
   ]
  },
  {
   "cell_type": "code",
   "execution_count": 32,
   "metadata": {},
   "outputs": [
    {
     "name": "stdout",
     "output_type": "stream",
     "text": [
      "6185 9724\n"
     ]
    }
   ],
   "source": [
    "print(com_wrds_s0.sum().shape[0], com_wrds_s1.sum().shape[0])"
   ]
  },
  {
   "cell_type": "markdown",
   "metadata": {},
   "source": [
    "There are 3582 tokens that are common between the subreddits, and subreddits _Filmmakers and Screenwriting_ have 6185 and 9737 unique tokens, respectively. This essentially is the number of features that we will train our model on. Note that this only using the `CountVectorizer` method."
   ]
  },
  {
   "cell_type": "markdown",
   "metadata": {},
   "source": [
    "### 2.3 Transform text\n",
    "\n",
    "Now, we can get the DataFrame and split the data into train and test sets. Even though we said the dataset can be considered balanced, we should specify `stratify = y` when splitting the data. We can use the default split ratio of $75-25$ for train-test. Then we transform them using the two vectorizers."
   ]
  },
  {
   "cell_type": "code",
   "execution_count": 33,
   "metadata": {},
   "outputs": [],
   "source": [
    "# Remove the extra reference words from the original dataframe\n",
    "df['Text'] = df['Text'].apply(clean_document)"
   ]
  },
  {
   "cell_type": "code",
   "execution_count": 34,
   "metadata": {},
   "outputs": [],
   "source": [
    "# get the features and target\n",
    "X = df['Text']\n",
    "y = df['Target']"
   ]
  },
  {
   "cell_type": "code",
   "execution_count": 35,
   "metadata": {},
   "outputs": [],
   "source": [
    "# split the data\n",
    "X_train, X_test, y_train, y_test = train_test_split(X, y, random_state=7, stratify=y)"
   ]
  },
  {
   "cell_type": "code",
   "execution_count": 36,
   "metadata": {},
   "outputs": [
    {
     "data": {
      "text/plain": [
       "1290"
      ]
     },
     "execution_count": 36,
     "metadata": {},
     "output_type": "execute_result"
    }
   ],
   "source": [
    "X_train.shape[0]"
   ]
  },
  {
   "cell_type": "markdown",
   "metadata": {},
   "source": [
    "We have 1290 datapoints in our training data out of the original 1721."
   ]
  },
  {
   "cell_type": "code",
   "execution_count": 37,
   "metadata": {},
   "outputs": [],
   "source": [
    "# CountVectorize\n",
    "# X_train_cvec = pd.DataFrame(cvec.fit_transform(X_train).todense(), columns=cvec.get_feature_names())\n",
    "# X_test_cvec = pd.DataFrame(cvec.transform(X_test).todense(), columns=cvec.get_feature_names())\n",
    "\n",
    "X_train_cvec = cvec.fit_transform(X_train)\n",
    "X_test_cvec = cvec.transform(X_test)"
   ]
  },
  {
   "cell_type": "code",
   "execution_count": 38,
   "metadata": {},
   "outputs": [],
   "source": [
    "# TfidfVectorizer\n",
    "# X_train_tvec = pd.DataFrame(tvec.fit_transform(X_train).todense(), columns=tvec.get_feature_names())\n",
    "# X_test_tvec = pd.DataFrame(tvec.transform(X_test).todense(), columns=tvec.get_feature_names())\n",
    "\n",
    "X_train_tvec = tvec.fit_transform(X_train)\n",
    "X_test_tvec = tvec.transform(X_test)"
   ]
  },
  {
   "cell_type": "markdown",
   "metadata": {},
   "source": [
    "## 3 Building models\n",
    "\n",
    "Now, lets build a few basic models using the different vectorizers.\n",
    "We run three baseline default models $-$ _Logistic Regression, Multinomial Naive Bayes, and Support Vector Machine_ $-$ to see their performance and draw any insights if we can.\n",
    "\n",
    "These models were selected as they are commonly used in binary classification problems. The Logistic Regression model is usually the easiest to interpret as it is an adapted version of a linear regression model. The coefficients of the features, after training, can be used to infer how much does it affects the prediction task. The Naive-Bayes algorithm is a simple probabilistic model that uses the _naive_ assumption that features are not correlated. Although, this does not have many control parameters, it still can produce good efficacy results when given \"good\" data. The third model, Support Vector Machine, is the most mysterious of them all, however, it does provide a few parameters which can be modified to achieve desired results.\n",
    "\n",
    "#### Logistic Regression"
   ]
  },
  {
   "cell_type": "code",
   "execution_count": 39,
   "metadata": {},
   "outputs": [
    {
     "data": {
      "text/plain": [
       "LogisticRegression(max_iter=500)"
      ]
     },
     "execution_count": 39,
     "metadata": {},
     "output_type": "execute_result"
    }
   ],
   "source": [
    "lr_cvec = LogisticRegression(max_iter=500)\n",
    "lr_cvec.fit(X_train_cvec, y_train)"
   ]
  },
  {
   "cell_type": "code",
   "execution_count": 40,
   "metadata": {},
   "outputs": [
    {
     "data": {
      "text/plain": [
       "0.9945736434108527"
      ]
     },
     "execution_count": 40,
     "metadata": {},
     "output_type": "execute_result"
    }
   ],
   "source": [
    "lr_cvec.score(X_train_cvec, y_train)"
   ]
  },
  {
   "cell_type": "code",
   "execution_count": 41,
   "metadata": {},
   "outputs": [
    {
     "data": {
      "text/plain": [
       "0.8604651162790697"
      ]
     },
     "execution_count": 41,
     "metadata": {},
     "output_type": "execute_result"
    }
   ],
   "source": [
    "lr_cvec.score(X_test_cvec, y_test)"
   ]
  },
  {
   "cell_type": "markdown",
   "metadata": {},
   "source": [
    "**Note**: The `max_iter` had to be increased to 500 as the model was not converging."
   ]
  },
  {
   "cell_type": "code",
   "execution_count": 42,
   "metadata": {},
   "outputs": [
    {
     "data": {
      "text/plain": [
       "LogisticRegression()"
      ]
     },
     "execution_count": 42,
     "metadata": {},
     "output_type": "execute_result"
    }
   ],
   "source": [
    "lr_tvec = LogisticRegression()\n",
    "lr_tvec.fit(X_train_tvec, y_train)"
   ]
  },
  {
   "cell_type": "code",
   "execution_count": 43,
   "metadata": {},
   "outputs": [
    {
     "data": {
      "text/plain": [
       "0.9457364341085271"
      ]
     },
     "execution_count": 43,
     "metadata": {},
     "output_type": "execute_result"
    }
   ],
   "source": [
    "lr_tvec.score(X_train_tvec, y_train)"
   ]
  },
  {
   "cell_type": "code",
   "execution_count": 44,
   "metadata": {
    "scrolled": true
   },
   "outputs": [
    {
     "data": {
      "text/plain": [
       "0.8627906976744186"
      ]
     },
     "execution_count": 44,
     "metadata": {},
     "output_type": "execute_result"
    }
   ],
   "source": [
    "lr_tvec.score(X_test_tvec, y_test)"
   ]
  },
  {
   "cell_type": "markdown",
   "metadata": {},
   "source": [
    "The model performs well with both the vectorizers on the training data, too well actually, and the accuracy score for test data is not as high. This points to the fact that underneath the method is still a regression and using more features than required can cause the model to overfit to train data and underperform for test set. Overall, however, test accuracy of about 86% is not as bad, and we will look if we can improve the performance metrics later."
   ]
  },
  {
   "cell_type": "markdown",
   "metadata": {},
   "source": [
    "#### Naive-Bayes Classifier"
   ]
  },
  {
   "cell_type": "code",
   "execution_count": 45,
   "metadata": {},
   "outputs": [
    {
     "data": {
      "text/plain": [
       "MultinomialNB()"
      ]
     },
     "execution_count": 45,
     "metadata": {},
     "output_type": "execute_result"
    }
   ],
   "source": [
    "nb_cvec = MultinomialNB()\n",
    "nb_cvec.fit(X_train_cvec, y_train)"
   ]
  },
  {
   "cell_type": "code",
   "execution_count": 46,
   "metadata": {},
   "outputs": [
    {
     "data": {
      "text/plain": [
       "0.9627906976744186"
      ]
     },
     "execution_count": 46,
     "metadata": {},
     "output_type": "execute_result"
    }
   ],
   "source": [
    "nb_cvec.score(X_train_cvec, y_train)"
   ]
  },
  {
   "cell_type": "code",
   "execution_count": 47,
   "metadata": {},
   "outputs": [
    {
     "data": {
      "text/plain": [
       "0.8116279069767441"
      ]
     },
     "execution_count": 47,
     "metadata": {},
     "output_type": "execute_result"
    }
   ],
   "source": [
    "nb_cvec.score(X_test_cvec, y_test)"
   ]
  },
  {
   "cell_type": "code",
   "execution_count": null,
   "metadata": {},
   "outputs": [],
   "source": []
  },
  {
   "cell_type": "code",
   "execution_count": 48,
   "metadata": {},
   "outputs": [
    {
     "data": {
      "text/plain": [
       "MultinomialNB()"
      ]
     },
     "execution_count": 48,
     "metadata": {},
     "output_type": "execute_result"
    }
   ],
   "source": [
    "nb_tvec = MultinomialNB()\n",
    "nb_tvec.fit(X_train_tvec, y_train)"
   ]
  },
  {
   "cell_type": "code",
   "execution_count": 49,
   "metadata": {},
   "outputs": [
    {
     "data": {
      "text/plain": [
       "0.8178294573643411"
      ]
     },
     "execution_count": 49,
     "metadata": {},
     "output_type": "execute_result"
    }
   ],
   "source": [
    "nb_tvec.score(X_train_tvec, y_train)"
   ]
  },
  {
   "cell_type": "code",
   "execution_count": 50,
   "metadata": {
    "scrolled": true
   },
   "outputs": [
    {
     "data": {
      "text/plain": [
       "0.7023255813953488"
      ]
     },
     "execution_count": 50,
     "metadata": {},
     "output_type": "execute_result"
    }
   ],
   "source": [
    "nb_tvec.score(X_test_tvec, y_test)"
   ]
  },
  {
   "cell_type": "markdown",
   "metadata": {},
   "source": [
    "The Naive-Bayes classification has unusual results as well, and since the model has limited control we suspect similar or worse results when tuning over hyperparameters with the vectorizers later in next section."
   ]
  },
  {
   "cell_type": "markdown",
   "metadata": {},
   "source": [
    "#### Support Vector Machines"
   ]
  },
  {
   "cell_type": "code",
   "execution_count": 51,
   "metadata": {
    "scrolled": true
   },
   "outputs": [
    {
     "data": {
      "text/plain": [
       "SVC()"
      ]
     },
     "execution_count": 51,
     "metadata": {},
     "output_type": "execute_result"
    }
   ],
   "source": [
    "svc_cvec = SVC()\n",
    "svc_cvec.fit(X_train_cvec, y_train)"
   ]
  },
  {
   "cell_type": "code",
   "execution_count": 52,
   "metadata": {},
   "outputs": [
    {
     "data": {
      "text/plain": [
       "0.8782945736434109"
      ]
     },
     "execution_count": 52,
     "metadata": {},
     "output_type": "execute_result"
    }
   ],
   "source": [
    "svc_cvec.score(X_train_cvec, y_train)"
   ]
  },
  {
   "cell_type": "code",
   "execution_count": 53,
   "metadata": {},
   "outputs": [
    {
     "data": {
      "text/plain": [
       "0.8046511627906977"
      ]
     },
     "execution_count": 53,
     "metadata": {},
     "output_type": "execute_result"
    }
   ],
   "source": [
    "svc_cvec.score(X_test_cvec, y_test)"
   ]
  },
  {
   "cell_type": "code",
   "execution_count": null,
   "metadata": {},
   "outputs": [],
   "source": []
  },
  {
   "cell_type": "code",
   "execution_count": 54,
   "metadata": {},
   "outputs": [
    {
     "data": {
      "text/plain": [
       "SVC()"
      ]
     },
     "execution_count": 54,
     "metadata": {},
     "output_type": "execute_result"
    }
   ],
   "source": [
    "svc_tvec = SVC()\n",
    "svc_tvec.fit(X_train_tvec, y_train)"
   ]
  },
  {
   "cell_type": "code",
   "execution_count": 55,
   "metadata": {},
   "outputs": [
    {
     "data": {
      "text/plain": [
       "0.9930232558139535"
      ]
     },
     "execution_count": 55,
     "metadata": {},
     "output_type": "execute_result"
    }
   ],
   "source": [
    "svc_tvec.score(X_train_tvec, y_train)"
   ]
  },
  {
   "cell_type": "code",
   "execution_count": 56,
   "metadata": {},
   "outputs": [
    {
     "data": {
      "text/plain": [
       "0.8697674418604651"
      ]
     },
     "execution_count": 56,
     "metadata": {},
     "output_type": "execute_result"
    }
   ],
   "source": [
    "svc_tvec.score(X_test_tvec, y_test)"
   ]
  },
  {
   "cell_type": "markdown",
   "metadata": {},
   "source": [
    "The default SVC has relatively better score to Multinomial Naive-Bayes. This model, even thoguh widely used in classification problems, is the most black-box and least interpretable of the bunch.\n",
    "\n",
    "All three models show signs of _overfitting_ when used with default transformer and model parameters, as the train accuracy score is significantly higher than the test score. "
   ]
  },
  {
   "cell_type": "markdown",
   "metadata": {},
   "source": [
    "## 4 Pipelines & parameter tuning\n",
    "\n",
    "`Pipeline` is a great way to streamline the model building process for `sklearn` library. Here we can build multiple pipelines for various combinations of transformers and models we seek to explore and then use `GridSearchCV` to tune the hyperparameters.\n",
    "\n",
    "### 4.1 Create pipelines\n",
    "\n",
    "We add all the pipelines to a dictionary so we can iterate through it."
   ]
  },
  {
   "cell_type": "code",
   "execution_count": 57,
   "metadata": {},
   "outputs": [],
   "source": [
    "pipes_dict = {\n",
    "    'pipe_lr_cvec': Pipeline([\n",
    "    ('cvec', CountVectorizer()),\n",
    "    ('lr', LogisticRegression(max_iter=500))\n",
    "    ]),\n",
    "    'pipe_lr_tvec': Pipeline([\n",
    "    ('tvec', TfidfVectorizer()),\n",
    "    ('lr', LogisticRegression(max_iter=500))\n",
    "    ]),\n",
    "    'pipe_nb_cvec': Pipeline([\n",
    "    ('cvec', CountVectorizer()),\n",
    "    ('nb', MultinomialNB())\n",
    "    ]),\n",
    "    'pipe_nb_tvec': Pipeline([\n",
    "    ('tvec', TfidfVectorizer()),\n",
    "    ('nb', MultinomialNB())\n",
    "    ]),\n",
    "    'pipe_svc_cvec': Pipeline([\n",
    "    ('cvec', CountVectorizer()),\n",
    "    ('svc', SVC())\n",
    "    ]),\n",
    "    'pipe_svc_tvec': Pipeline([\n",
    "    ('tvec', TfidfVectorizer()),\n",
    "    ('svc', SVC())\n",
    "    ])\n",
    "}"
   ]
  },
  {
   "cell_type": "markdown",
   "metadata": {},
   "source": [
    "#### Pipeline parameters\n",
    "\n",
    "Pipelines and GridSearchCV are a very convenient way to tune multiple parameters for the transformers and model at once. Some of the parameters we explore with the grid searching are:\n",
    "- `max_features` $-$ maximum number of features included for model training\n",
    "- `max_df` $-$ ignores the tokens that appeared in the given percentage of documents\n",
    "- `min_df` $-$ a token has to appear in at least these many documents to be considered\n",
    "- `ngram_range` $-$ single and double word combinations\n",
    "\n",
    "A variety of these parameters gives the model building process some robustness when it comes to predicting new data. The overall accuracy score might not change a lot but the misclassification definitely improves as we see later. We want to minimize the `max_features` to avoid overfitting, as discussed above, and with `min_df` and `max_df` we can fine tune for different results. The stop words are the two generic ones from `NLTK` and `sklearn`."
   ]
  },
  {
   "cell_type": "code",
   "execution_count": 58,
   "metadata": {},
   "outputs": [],
   "source": [
    "pipe_cvec_params = {\n",
    "    'cvec__max_features': [1000, 2000, 5000],\n",
    "    'cvec__max_df': [0.3, 0.5, 0.8],\n",
    "    'cvec__min_df': [2, 3, 5],\n",
    "    'cvec__ngram_range': [(1, 1), (1, 2)],\n",
    "    'cvec__stop_words': [stopwords.words('english'), 'english']\n",
    "}"
   ]
  },
  {
   "cell_type": "code",
   "execution_count": 59,
   "metadata": {},
   "outputs": [],
   "source": [
    "pipe_tvec_params = {\n",
    "    'tvec__max_features': [1000, 2000, 5000],\n",
    "    'tvec__max_df': [0.3, 0.5, 0.8],\n",
    "    'tvec__min_df': [2, 3, 5],\n",
    "    'tvec__ngram_range': [(1, 1), (1, 2)],\n",
    "    'tvec__stop_words': [stopwords.words('english'), 'english']\n",
    "}"
   ]
  },
  {
   "cell_type": "markdown",
   "metadata": {},
   "source": [
    "### 4.2 Grid searching\n",
    "\n",
    "Using the pipelines created, we can now grid search over the parameters and find the seemingly optimal values. Then we can calculate the cross validated score , pick our model of choice and explore the results."
   ]
  },
  {
   "cell_type": "code",
   "execution_count": 60,
   "metadata": {},
   "outputs": [],
   "source": [
    "# Create a function to run the GridSearchCV for each pipe and store models in another dictionary\n",
    "gs_dict = {}\n",
    "\n",
    "def pipe_grid_search(pipe, pipe_params):\n",
    "    vec = pipe.split('_')[2]\n",
    "    model = pipe.split('_')[1]\n",
    "    \n",
    "    gs = f'gs_{model}_{vec}'\n",
    "    gs_dict[gs] = GridSearchCV(estimator=pipes_dict[pipe], param_grid=pipe_params, cv=5)\n",
    "    start = time.time()\n",
    "    gs_dict[gs].fit(X_train, y_train)\n",
    "    print(f\"It took {time.time() - start} secs to run {gs} grid search.\")"
   ]
  },
  {
   "cell_type": "markdown",
   "metadata": {},
   "source": [
    "**Note**: The above function about several minutes to run when used with the following loop!!"
   ]
  },
  {
   "cell_type": "code",
   "execution_count": 61,
   "metadata": {},
   "outputs": [
    {
     "name": "stdout",
     "output_type": "stream",
     "text": [
      "It took 95.45984363555908 secs to run gs_lr_cvec grid search.\n",
      "It took 80.5371766090393 secs to run gs_lr_tvec grid search.\n",
      "It took 71.97186493873596 secs to run gs_nb_cvec grid search.\n",
      "It took 72.53867673873901 secs to run gs_nb_tvec grid search.\n",
      "It took 215.88156485557556 secs to run gs_svc_cvec grid search.\n",
      "It took 231.44956874847412 secs to run gs_svc_tvec grid search.\n"
     ]
    }
   ],
   "source": [
    "# run a loop to iterate through the pipeline dictionaries\n",
    "for pipe in pipes_dict.keys():\n",
    "    if pipe.split('_')[2] == 'cvec':\n",
    "        pipe_grid_search(pipe=pipe, pipe_params=pipe_cvec_params)\n",
    "    elif pipe.split('_')[2] == 'tvec':\n",
    "        pipe_grid_search(pipe=pipe, pipe_params=pipe_tvec_params)"
   ]
  },
  {
   "cell_type": "markdown",
   "metadata": {},
   "source": [
    "Each loop is run $3 * 3 * 3 * 2 * 2 * 5 = 540$ times. The purpose here is to fit the models with training data and train them for different parameters and find the optimal values that gives us good scores."
   ]
  },
  {
   "cell_type": "markdown",
   "metadata": {},
   "source": [
    "## 5 Evaluation\n",
    "\n",
    "Once training the models is done, we can look at the best parameters of each model trained and the respective scores. We can also look at the tokens that have the most effect on determining the prediction results and how posts can be misclassified."
   ]
  },
  {
   "cell_type": "code",
   "execution_count": 62,
   "metadata": {},
   "outputs": [],
   "source": [
    "# Write a function to print the results of the grid search. Add the results to a dictionary\n",
    "def print_gs_results(gs):\n",
    "    # train accuracy\n",
    "    train_acc = round(gs_dict[gs].best_score_ * 100, 2)\n",
    "    \n",
    "    # cross val accuracy\n",
    "    mean_cross_val_acc = round(cross_val_score(estimator=gs_dict[gs].best_estimator_,\n",
    "                                         X=X_train,\n",
    "                                         y=y_train,\n",
    "                                         cv=10).mean() * 100, 2)\n",
    "    \n",
    "    # test accuracy\n",
    "    test_acc = round(gs_dict[gs].score(X_test, y_test) * 100, 2)\n",
    "    \n",
    "    print(f\"Results for {gs}'s best estimator\")\n",
    "    print(\"=============================================\")\n",
    "    print(f\"Best score: {train_acc}  |  Cross validated score: {mean_cross_val_acc}\")\n",
    "    print(f\"Test score: {test_acc}\")"
   ]
  },
  {
   "cell_type": "code",
   "execution_count": 63,
   "metadata": {
    "scrolled": false
   },
   "outputs": [
    {
     "name": "stdout",
     "output_type": "stream",
     "text": [
      "Results for gs_lr_cvec's best estimator\n",
      "=============================================\n",
      "Best score: 86.43  |  Cross validated score: 85.43\n",
      "Test score: 85.12\n",
      "\n",
      "\n",
      "Results for gs_lr_tvec's best estimator\n",
      "=============================================\n",
      "Best score: 87.83  |  Cross validated score: 87.91\n",
      "Test score: 86.05\n",
      "\n",
      "\n",
      "Results for gs_nb_cvec's best estimator\n",
      "=============================================\n",
      "Best score: 86.12  |  Cross validated score: 86.43\n",
      "Test score: 82.09\n",
      "\n",
      "\n",
      "Results for gs_nb_tvec's best estimator\n",
      "=============================================\n",
      "Best score: 83.95  |  Cross validated score: 83.72\n",
      "Test score: 83.72\n",
      "\n",
      "\n",
      "Results for gs_svc_cvec's best estimator\n",
      "=============================================\n",
      "Best score: 81.47  |  Cross validated score: 81.78\n",
      "Test score: 83.49\n",
      "\n",
      "\n",
      "Results for gs_svc_tvec's best estimator\n",
      "=============================================\n",
      "Best score: 87.6  |  Cross validated score: 87.67\n",
      "Test score: 84.65\n",
      "\n",
      "\n"
     ]
    }
   ],
   "source": [
    "for gs in gs_dict.keys():\n",
    "    print_gs_results(gs)\n",
    "    print('\\n')"
   ]
  },
  {
   "cell_type": "markdown",
   "metadata": {},
   "source": [
    "Of all the models we trained over, all of them did a good job at preventing overfitting and not all models improved on the test accuracy score. Although, the test accuracy score is only one of the measures, we also printed the cross validated score calculated from the best model for each pipeline. The cross validated score is in general a better predictor of model performance in real life. For the purposes of this project, we do pick a model to get our results from.\n",
    "\n",
    "### 5.1 Best model\n",
    "\n",
    "Based on the scores above, let's select a model with a good cross validated score and low difference between train and test accuracy score, then we examine its predictions. This is not necessarily the best model overall, but with the data we have and the parameters we tune over, we can choose this as our production model."
   ]
  },
  {
   "cell_type": "code",
   "execution_count": 64,
   "metadata": {},
   "outputs": [
    {
     "data": {
      "text/plain": [
       "Pipeline(steps=[('tvec',\n",
       "                 TfidfVectorizer(max_df=0.3, max_features=5000, min_df=2,\n",
       "                                 stop_words='english')),\n",
       "                ('lr', LogisticRegression(max_iter=500))])"
      ]
     },
     "execution_count": 64,
     "metadata": {},
     "output_type": "execute_result"
    }
   ],
   "source": [
    "# start by defining the best model\n",
    "best_model = gs_dict['gs_lr_tvec']\n",
    "best_model.best_estimator_"
   ]
  },
  {
   "cell_type": "markdown",
   "metadata": {},
   "source": [
    "For the results we obtain above, we chose the Linear Regression with TfIdfVectorizer transformer as our final model. Lets get the top features from this model that have the most predictive power in the classification. Our final model has 5000 `max_features`, `min_df` of 2, `max_df` of 0.3 (meaning words that appear in more than 30% of documents/posts are ignored)."
   ]
  },
  {
   "cell_type": "code",
   "execution_count": 65,
   "metadata": {},
   "outputs": [],
   "source": [
    "# Get the feature names and respective coefficients \n",
    "feats = best_model.best_estimator_.named_steps['tvec'].get_feature_names()\n",
    "coef = best_model.best_estimator_.named_steps['lr'].coef_.T\n",
    "\n",
    "# put these two into a dataframe\n",
    "feat_coef = pd.DataFrame([feats, coef], index=['features', 'coefficient']).T"
   ]
  },
  {
   "cell_type": "markdown",
   "metadata": {},
   "source": [
    "To make a note that, the logistic regression is very straighforward to interpret because of the individual coefficients we get for each feature. These coefficients can be seen as \"weights\" that gives us their relative effect on the prediction output. These coefficients for a binary classification problem, case-in-point, like we get from our model have two parts:\n",
    "- value: higher the value, bigger the impact on the prediction output\n",
    "- sign: positive sign results in one class and negative sign results in the other class\n",
    "\n",
    "Apart from apparent impact, the likelihood odds of that feature predicting the underlying class can also be calculated by taking it's exponential. Following are some of the top features that have highest impact in predicting the respective classes."
   ]
  },
  {
   "cell_type": "code",
   "execution_count": 66,
   "metadata": {},
   "outputs": [
    {
     "data": {
      "text/html": [
       "<div>\n",
       "<style scoped>\n",
       "    .dataframe tbody tr th:only-of-type {\n",
       "        vertical-align: middle;\n",
       "    }\n",
       "\n",
       "    .dataframe tbody tr th {\n",
       "        vertical-align: top;\n",
       "    }\n",
       "\n",
       "    .dataframe thead th {\n",
       "        text-align: right;\n",
       "    }\n",
       "</style>\n",
       "<table border=\"1\" class=\"dataframe\">\n",
       "  <thead>\n",
       "    <tr style=\"text-align: right;\">\n",
       "      <th></th>\n",
       "      <th>features</th>\n",
       "      <th>coefficient</th>\n",
       "    </tr>\n",
       "  </thead>\n",
       "  <tbody>\n",
       "    <tr>\n",
       "      <th>506</th>\n",
       "      <td>camera</td>\n",
       "      <td>[-2.4294881440097167]</td>\n",
       "    </tr>\n",
       "    <tr>\n",
       "      <th>3533</th>\n",
       "      <td>short</td>\n",
       "      <td>[-2.1351494530132986]</td>\n",
       "    </tr>\n",
       "    <tr>\n",
       "      <th>2329</th>\n",
       "      <td>making</td>\n",
       "      <td>[-2.0974391724268306]</td>\n",
       "    </tr>\n",
       "    <tr>\n",
       "      <th>3346</th>\n",
       "      <td>rs</td>\n",
       "      <td>[-1.9288353934863804]</td>\n",
       "    </tr>\n",
       "    <tr>\n",
       "      <th>4210</th>\n",
       "      <td>videos</td>\n",
       "      <td>[-1.7562294437328345]</td>\n",
       "    </tr>\n",
       "    <tr>\n",
       "      <th>1056</th>\n",
       "      <td>director</td>\n",
       "      <td>[-1.5533177235475981]</td>\n",
       "    </tr>\n",
       "    <tr>\n",
       "      <th>4207</th>\n",
       "      <td>video</td>\n",
       "      <td>[-1.5114775388998412]</td>\n",
       "    </tr>\n",
       "    <tr>\n",
       "      <th>1178</th>\n",
       "      <td>editing</td>\n",
       "      <td>[-1.4503158726143905]</td>\n",
       "    </tr>\n",
       "    <tr>\n",
       "      <th>474</th>\n",
       "      <td>budget</td>\n",
       "      <td>[-1.439005820196425]</td>\n",
       "    </tr>\n",
       "    <tr>\n",
       "      <th>2537</th>\n",
       "      <td>music</td>\n",
       "      <td>[-1.2686621907521891]</td>\n",
       "    </tr>\n",
       "    <tr>\n",
       "      <th>2989</th>\n",
       "      <td>production</td>\n",
       "      <td>[-1.2669879985383268]</td>\n",
       "    </tr>\n",
       "    <tr>\n",
       "      <th>2221</th>\n",
       "      <td>lighting</td>\n",
       "      <td>[-1.2415422537140928]</td>\n",
       "    </tr>\n",
       "    <tr>\n",
       "      <th>3403</th>\n",
       "      <td>school</td>\n",
       "      <td>[-1.2204970155701143]</td>\n",
       "    </tr>\n",
       "    <tr>\n",
       "      <th>3539</th>\n",
       "      <td>shots</td>\n",
       "      <td>[-1.1504282114569602]</td>\n",
       "    </tr>\n",
       "    <tr>\n",
       "      <th>1105</th>\n",
       "      <td>documentary</td>\n",
       "      <td>[-1.1309173583341325]</td>\n",
       "    </tr>\n",
       "    <tr>\n",
       "      <th>1186</th>\n",
       "      <td>effect</td>\n",
       "      <td>[-1.0739565062969787]</td>\n",
       "    </tr>\n",
       "    <tr>\n",
       "      <th>273</th>\n",
       "      <td>audio</td>\n",
       "      <td>[-1.0425681585886748]</td>\n",
       "    </tr>\n",
       "    <tr>\n",
       "      <th>3650</th>\n",
       "      <td>sound</td>\n",
       "      <td>[-1.0052895347982622]</td>\n",
       "    </tr>\n",
       "    <tr>\n",
       "      <th>3537</th>\n",
       "      <td>shot</td>\n",
       "      <td>[-1.0040639318579367]</td>\n",
       "    </tr>\n",
       "    <tr>\n",
       "      <th>706</th>\n",
       "      <td>commercial</td>\n",
       "      <td>[-0.9902534073048134]</td>\n",
       "    </tr>\n",
       "  </tbody>\n",
       "</table>\n",
       "</div>"
      ],
      "text/plain": [
       "         features            coefficient\n",
       "506        camera  [-2.4294881440097167]\n",
       "3533        short  [-2.1351494530132986]\n",
       "2329       making  [-2.0974391724268306]\n",
       "3346           rs  [-1.9288353934863804]\n",
       "4210       videos  [-1.7562294437328345]\n",
       "1056     director  [-1.5533177235475981]\n",
       "4207        video  [-1.5114775388998412]\n",
       "1178      editing  [-1.4503158726143905]\n",
       "474        budget   [-1.439005820196425]\n",
       "2537        music  [-1.2686621907521891]\n",
       "2989   production  [-1.2669879985383268]\n",
       "2221     lighting  [-1.2415422537140928]\n",
       "3403       school  [-1.2204970155701143]\n",
       "3539        shots  [-1.1504282114569602]\n",
       "1105  documentary  [-1.1309173583341325]\n",
       "1186       effect  [-1.0739565062969787]\n",
       "273         audio  [-1.0425681585886748]\n",
       "3650        sound  [-1.0052895347982622]\n",
       "3537         shot  [-1.0040639318579367]\n",
       "706    commercial  [-0.9902534073048134]"
      ]
     },
     "execution_count": 66,
     "metadata": {},
     "output_type": "execute_result"
    }
   ],
   "source": [
    "# features which have strong impact on predicting Filmmakers class\n",
    "feat_coef.sort_values(by='coefficient').head(20)"
   ]
  },
  {
   "cell_type": "markdown",
   "metadata": {},
   "source": [
    "Some of the **\"creative\"** words that we can pickup from the list above for the top features that help us predict the _Filmmakers_ class/subreddit are $-$ _camera, video, director, editing, music, production, lighting, shots, documentary, sound, commercial_. These are some of the topics people usually talk about that can be related to Filmmakers on the subreddit."
   ]
  },
  {
   "cell_type": "code",
   "execution_count": 67,
   "metadata": {},
   "outputs": [
    {
     "data": {
      "text/html": [
       "<div>\n",
       "<style scoped>\n",
       "    .dataframe tbody tr th:only-of-type {\n",
       "        vertical-align: middle;\n",
       "    }\n",
       "\n",
       "    .dataframe tbody tr th {\n",
       "        vertical-align: top;\n",
       "    }\n",
       "\n",
       "    .dataframe thead th {\n",
       "        text-align: right;\n",
       "    }\n",
       "</style>\n",
       "<table border=\"1\" class=\"dataframe\">\n",
       "  <thead>\n",
       "    <tr style=\"text-align: right;\">\n",
       "      <th></th>\n",
       "      <th>features</th>\n",
       "      <th>coefficient</th>\n",
       "    </tr>\n",
       "  </thead>\n",
       "  <tbody>\n",
       "    <tr>\n",
       "      <th>4381</th>\n",
       "      <td>write</td>\n",
       "      <td>[2.9074942091104314]</td>\n",
       "    </tr>\n",
       "    <tr>\n",
       "      <th>3427</th>\n",
       "      <td>screenplay</td>\n",
       "      <td>[2.5380411802723093]</td>\n",
       "    </tr>\n",
       "    <tr>\n",
       "      <th>3423</th>\n",
       "      <td>screen</td>\n",
       "      <td>[2.2950615549694695]</td>\n",
       "    </tr>\n",
       "    <tr>\n",
       "      <th>2729</th>\n",
       "      <td>pages</td>\n",
       "      <td>[2.2472745195193298]</td>\n",
       "    </tr>\n",
       "    <tr>\n",
       "      <th>3117</th>\n",
       "      <td>read</td>\n",
       "      <td>[2.118221045492123]</td>\n",
       "    </tr>\n",
       "    <tr>\n",
       "      <th>4387</th>\n",
       "      <td>writers</td>\n",
       "      <td>[1.9469342972034962]</td>\n",
       "    </tr>\n",
       "    <tr>\n",
       "      <th>576</th>\n",
       "      <td>character</td>\n",
       "      <td>[1.9219014011314726]</td>\n",
       "    </tr>\n",
       "    <tr>\n",
       "      <th>1128</th>\n",
       "      <td>draft</td>\n",
       "      <td>[1.917031237405675]</td>\n",
       "    </tr>\n",
       "    <tr>\n",
       "      <th>2832</th>\n",
       "      <td>pilot</td>\n",
       "      <td>[1.8941297751799198]</td>\n",
       "    </tr>\n",
       "    <tr>\n",
       "      <th>4107</th>\n",
       "      <td>tv</td>\n",
       "      <td>[1.6999744702996062]</td>\n",
       "    </tr>\n",
       "    <tr>\n",
       "      <th>580</th>\n",
       "      <td>characters</td>\n",
       "      <td>[1.5429953310785764]</td>\n",
       "    </tr>\n",
       "    <tr>\n",
       "      <th>1417</th>\n",
       "      <td>feedback</td>\n",
       "      <td>[1.5232253942195064]</td>\n",
       "    </tr>\n",
       "    <tr>\n",
       "      <th>4390</th>\n",
       "      <td>written</td>\n",
       "      <td>[1.5026434929558685]</td>\n",
       "    </tr>\n",
       "    <tr>\n",
       "      <th>3751</th>\n",
       "      <td>story</td>\n",
       "      <td>[1.4391310291680537]</td>\n",
       "    </tr>\n",
       "    <tr>\n",
       "      <th>2268</th>\n",
       "      <td>logline</td>\n",
       "      <td>[1.3450211882509129]</td>\n",
       "    </tr>\n",
       "    <tr>\n",
       "      <th>3429</th>\n",
       "      <td>screenplays</td>\n",
       "      <td>[1.2688445810865596]</td>\n",
       "    </tr>\n",
       "    <tr>\n",
       "      <th>4382</th>\n",
       "      <td>writer</td>\n",
       "      <td>[1.2607624973764808]</td>\n",
       "    </tr>\n",
       "    <tr>\n",
       "      <th>1880</th>\n",
       "      <td>idea</td>\n",
       "      <td>[1.1756354578165447]</td>\n",
       "    </tr>\n",
       "    <tr>\n",
       "      <th>3950</th>\n",
       "      <td>thanks</td>\n",
       "      <td>[1.1607828460557101]</td>\n",
       "    </tr>\n",
       "    <tr>\n",
       "      <th>3399</th>\n",
       "      <td>scene</td>\n",
       "      <td>[1.1604757220687467]</td>\n",
       "    </tr>\n",
       "  </tbody>\n",
       "</table>\n",
       "</div>"
      ],
      "text/plain": [
       "         features           coefficient\n",
       "4381        write  [2.9074942091104314]\n",
       "3427   screenplay  [2.5380411802723093]\n",
       "3423       screen  [2.2950615549694695]\n",
       "2729        pages  [2.2472745195193298]\n",
       "3117         read   [2.118221045492123]\n",
       "4387      writers  [1.9469342972034962]\n",
       "576     character  [1.9219014011314726]\n",
       "1128        draft   [1.917031237405675]\n",
       "2832        pilot  [1.8941297751799198]\n",
       "4107           tv  [1.6999744702996062]\n",
       "580    characters  [1.5429953310785764]\n",
       "1417     feedback  [1.5232253942195064]\n",
       "4390      written  [1.5026434929558685]\n",
       "3751        story  [1.4391310291680537]\n",
       "2268      logline  [1.3450211882509129]\n",
       "3429  screenplays  [1.2688445810865596]\n",
       "4382       writer  [1.2607624973764808]\n",
       "1880         idea  [1.1756354578165447]\n",
       "3950       thanks  [1.1607828460557101]\n",
       "3399        scene  [1.1604757220687467]"
      ]
     },
     "execution_count": 67,
     "metadata": {},
     "output_type": "execute_result"
    }
   ],
   "source": [
    "# features which have strong impact on predicting Screenwriting class\n",
    "feat_coef.sort_values(by='coefficient', ascending=False).head(20)"
   ]
  },
  {
   "cell_type": "markdown",
   "metadata": {},
   "source": [
    "Similarly, the top **\"creative\"** words with highest impact on predicting the _Screenwriting_ class are $-$ _write, screeenplay, read, character, draft, pilot, feedback, story, idea, scene_ etc. These are some of the common things people post about screenwriting on the subreddit.\n",
    "\n",
    "While both the classes have certain unique topics, quirks and words they talk about in the subreddits, they seemingly comprise of disparate \"creative\" words. Having said that, we need to see why the model accuracy is still not excellent, which we will look into in the next part.\n",
    "\n",
    "The following table summarizes the __\"creative\"__ keywords from each class, with highest impact on the predictions.\n",
    "\n",
    "| _Filmmakers_ | _Screnwriting_ |\n",
    "|:------------:|:--------------:|\n",
    "|camera, video, director, editing, music, production, lighting, shots, documentary, sound, commercial|write, screeenplay, read, character, draft, pilot, feedback, story, idea, scene|"
   ]
  },
  {
   "cell_type": "markdown",
   "metadata": {},
   "source": [
    "### 5.2 Metrics\n",
    "\n",
    "For a binary text classification task like this, mostly accuracy score is enough to examine the results. Maximising the model performance on this metric alone wouldn't be a bad idea, but as mentioned before, it only paints half the picture. To truly explore why the model behaves the way it does, some metrics that can help us understand our selected model's performance better are calculated here."
   ]
  },
  {
   "cell_type": "code",
   "execution_count": 68,
   "metadata": {},
   "outputs": [],
   "source": [
    "# write a function to plot the confusion matrix and ROC curve\n",
    "def plot_cm_roc(model, X, y):\n",
    "    roc_train = roc_auc_score(y_true=y_train, y_score=model.predict_proba(X_train)[:,1])\n",
    "    roc_test = roc_auc_score(y_true=y, y_score=model.predict_proba(X)[:,1])\n",
    "    \n",
    "    fig, ax = plt.subplots(nrows=1, ncols=2, figsize=(16,7))\n",
    "    ax[0].set_title(\"Confusion Matrix for test data\")\n",
    "    ax[1].set_title(\"AUC ROC curve\")\n",
    "    plot_confusion_matrix(estimator=model,\n",
    "                          X=X,\n",
    "                          y_true=y,\n",
    "                          cmap='Blues',\n",
    "                          values_format='d',\n",
    "                          colorbar=False,\n",
    "                          ax=ax[0])\n",
    "    plot_roc_curve(estimator=model, X=X_train, y=y_train, ax=ax[1])\n",
    "    plot_roc_curve(estimator=model, X=X, y=y, ax=ax[1])\n",
    "    ax[1].legend([f'train (AUC = {round(roc_train, 2)})', f'test  (AUC = {round(roc_test, 2)})']);"
   ]
  },
  {
   "cell_type": "code",
   "execution_count": 69,
   "metadata": {},
   "outputs": [
    {
     "data": {
      "image/png": "[encoded data removed]",
      "text/plain": [
       "<Figure size 1152x504 with 2 Axes>"
      ]
     },
     "metadata": {
      "image/png": {
       "height": 451,
       "width": 928
      },
      "needs_background": "light"
     },
     "output_type": "display_data"
    }
   ],
   "source": [
    "plot_cm_roc(best_model, X_test, y_test)"
   ]
  },
  {
   "cell_type": "markdown",
   "metadata": {},
   "source": [
    "The two plots above show the confusion matrix and the ROC curve with AUC score for the test and train data. The first plot is a very common way to know the distribution of _correctness and wrongness_ of a model. The correctness is the number of observations in both classes, you predicted corretly, albeit there are two wrongness values $-$ _type I & type II_ errors, false positive & false negatives, respectively. The confusion matrix plots the predicted classes vs the actual classes. Metrics like sensitivity and specificity can be calculated from these values. The second plot is the ROC curve, which tells how good our model is at separating the two classes. The area under the curve (AUC) of 1 means the model can distinguish between the two classes perfectly. As you can see from our plot the model is good at differentiating between the two classes for test data but slightly better for train data."
   ]
  },
  {
   "cell_type": "code",
   "execution_count": 70,
   "metadata": {},
   "outputs": [],
   "source": [
    "cm = confusion_matrix(y_true=y_test, y_pred=best_model.predict(X_test))"
   ]
  },
  {
   "cell_type": "code",
   "execution_count": 71,
   "metadata": {},
   "outputs": [],
   "source": [
    "tn, fp, fn, tp = cm.ravel()"
   ]
  },
  {
   "cell_type": "code",
   "execution_count": 72,
   "metadata": {},
   "outputs": [
    {
     "data": {
      "text/plain": [
       "0.9142857142857143"
      ]
     },
     "execution_count": 72,
     "metadata": {},
     "output_type": "execute_result"
    }
   ],
   "source": [
    "sensitivity = (tp / (tp + fn))\n",
    "sensitivity"
   ]
  },
  {
   "cell_type": "markdown",
   "metadata": {},
   "source": [
    "The sensitivity for our model is 0.91, means that out model is about 91% good at predicting the class 1, i.e., Screenwriting."
   ]
  },
  {
   "cell_type": "code",
   "execution_count": 73,
   "metadata": {},
   "outputs": [
    {
     "data": {
      "text/plain": [
       "0.7891891891891892"
      ]
     },
     "execution_count": 73,
     "metadata": {},
     "output_type": "execute_result"
    }
   ],
   "source": [
    "specificity = (tn / (tn + fp))\n",
    "specificity"
   ]
  },
  {
   "cell_type": "markdown",
   "metadata": {},
   "source": [
    "The specificity for our model is 0.79, means that out model is about 79% good at predicting the class 0, i.e., Filmmakers.\n",
    "\n",
    "### 5.3 Misclassification\n",
    "\n",
    "There are 60 misclassifications in our test data out of 430 observations. Here, we will try to understand why a few of them were classified wrongly."
   ]
  },
  {
   "cell_type": "code",
   "execution_count": 74,
   "metadata": {},
   "outputs": [],
   "source": [
    "# get the predictions for the test data\n",
    "preds = best_model.predict(X_test)"
   ]
  },
  {
   "cell_type": "code",
   "execution_count": 75,
   "metadata": {},
   "outputs": [],
   "source": [
    "# create a dataframe with predicted and actual target\n",
    "res = pd.DataFrame([preds, y_test], index=['predictions', 'actual']).T"
   ]
  },
  {
   "cell_type": "code",
   "execution_count": 76,
   "metadata": {},
   "outputs": [],
   "source": [
    "# add two new columns to the dataframe: lenght of text and actual text for test data\n",
    "res['length'] = X_test.map(lambda x: len(x.split())).values\n",
    "res['text'] = X_test.values"
   ]
  },
  {
   "cell_type": "code",
   "execution_count": 77,
   "metadata": {
    "scrolled": true
   },
   "outputs": [
    {
     "data": {
      "text/html": [
       "<div>\n",
       "<style scoped>\n",
       "    .dataframe tbody tr th:only-of-type {\n",
       "        vertical-align: middle;\n",
       "    }\n",
       "\n",
       "    .dataframe tbody tr th {\n",
       "        vertical-align: top;\n",
       "    }\n",
       "\n",
       "    .dataframe thead th {\n",
       "        text-align: right;\n",
       "    }\n",
       "</style>\n",
       "<table border=\"1\" class=\"dataframe\">\n",
       "  <thead>\n",
       "    <tr style=\"text-align: right;\">\n",
       "      <th></th>\n",
       "      <th>predictions</th>\n",
       "      <th>actual</th>\n",
       "      <th>length</th>\n",
       "      <th>text</th>\n",
       "    </tr>\n",
       "  </thead>\n",
       "  <tbody>\n",
       "    <tr>\n",
       "      <th>7</th>\n",
       "      <td>0</td>\n",
       "      <td>1</td>\n",
       "      <td>99</td>\n",
       "      <td>looking for indie production companies hi all ...</td>\n",
       "    </tr>\n",
       "    <tr>\n",
       "      <th>11</th>\n",
       "      <td>1</td>\n",
       "      <td>0</td>\n",
       "      <td>94</td>\n",
       "      <td>female director looking for work and feedback ...</td>\n",
       "    </tr>\n",
       "    <tr>\n",
       "      <th>12</th>\n",
       "      <td>1</td>\n",
       "      <td>0</td>\n",
       "      <td>12</td>\n",
       "      <td>motorcycles in anime the unlikely history behi...</td>\n",
       "    </tr>\n",
       "    <tr>\n",
       "      <th>16</th>\n",
       "      <td>1</td>\n",
       "      <td>0</td>\n",
       "      <td>73</td>\n",
       "      <td>term forexamples of ambient s with no characte...</td>\n",
       "    </tr>\n",
       "    <tr>\n",
       "      <th>31</th>\n",
       "      <td>1</td>\n",
       "      <td>0</td>\n",
       "      <td>83</td>\n",
       "      <td>planning on making a movie review sitecontent ...</td>\n",
       "    </tr>\n",
       "  </tbody>\n",
       "</table>\n",
       "</div>"
      ],
      "text/plain": [
       "    predictions  actual  length  \\\n",
       "7             0       1      99   \n",
       "11            1       0      94   \n",
       "12            1       0      12   \n",
       "16            1       0      73   \n",
       "31            1       0      83   \n",
       "\n",
       "                                                 text  \n",
       "7   looking for indie production companies hi all ...  \n",
       "11  female director looking for work and feedback ...  \n",
       "12  motorcycles in anime the unlikely history behi...  \n",
       "16  term forexamples of ambient s with no characte...  \n",
       "31  planning on making a movie review sitecontent ...  "
      ]
     },
     "execution_count": 77,
     "metadata": {},
     "output_type": "execute_result"
    }
   ],
   "source": [
    "# display the misclassified posts\n",
    "res[res['predictions'] != res['actual']].head()"
   ]
  },
  {
   "cell_type": "markdown",
   "metadata": {},
   "source": [
    "Let's look at a few individual examples in detail and try to reason for the misclassification.\n",
    "\n",
    "**Example 1:**\n",
    "\n",
    "Look at the first datapoint in the list above, which originally belongs to _Screenwriting_ subreddit but was predicted to be from _Filmmakers_ subreddit. The original text from that post is:\n",
    "> Hi all, I'm fairly new to this community and I apologize profusely in advance if this is the wrong place for my question. If that is the case, I'd appreciate any advice on where else to post it: I have a feature script that's intended for a relatively low budget indie production set in Florida. I am looking for resources or communities through which I can identify and contact indie producers/directors/production companies to pitch my script. Does anybody have any tips on where to find such resources? Thanks  in  advance for any advice/tips you can provide!!\n",
    "\n",
    "This post starts by saying that the author is not sure of this post belongs to the correct place. Additionally, they talk more about the filmmaking process and use creative keywords like, directos, production, budget etc, which are listed as tokens more likely to predict this as belonging to _Filmmakers_ class."
   ]
  },
  {
   "cell_type": "markdown",
   "metadata": {},
   "source": [
    "**Example 2:**\n",
    "\n",
    "The third post in the table above, has the following text in the post,\n",
    "> Motorcycles in anime: The unlikely history behind Akira, Sailor Moon, and more!\n",
    "\n",
    "Now this post belongs to _Filmmakers_ class but was classified as _Screenwriting_, but this is too short and therefore not enough features are captured. It could be possible that any of the other common words would tip the scales in other class's favor."
   ]
  },
  {
   "cell_type": "markdown",
   "metadata": {},
   "source": [
    "**Example 3:**\n",
    "\n",
    "Let's look at another one from _Filmmakers_ class, the fifth post in the table. it says:\n",
    "\n",
    "> Planning on starting a website where I will write film reviews! Was also thinking of hosting other reviewers and perhaps turning the website into a hub for content (including my own). Any tips, pointers or advice on the matter would be extremely helpful, especially if you’re experienced with this sort of thing.  If you have any interest in starting the site with me or being a future co-host on the site feel free to contact me!\n",
    "\n",
    "At first glance, this post logically might or might not have to do anything with filmmaking but sure does inlcude a few of the creative keywords from the _Screenwriting_ class, like _writing, review_."
   ]
  },
  {
   "cell_type": "markdown",
   "metadata": {},
   "source": [
    "## 6 Conclusion and Recommendations"
   ]
  },
  {
   "cell_type": "markdown",
   "metadata": {},
   "source": [
    "So, do we know who is more creative $-$ _Filmmakers or Screenwriting_? The short answer is _no_, but we do at least know what creative topics each group talks about and discussed with the community.\n",
    "\n",
    "In this project, we used Reddit's API to scrape some posts from two subreddits, extracted relevant text info, cleaned and saved the data to analyse. We set out to see if we can figure out who is more creative between the two roles. We did some basic preprocessing of data and employed the _bag-of-words_ model to vectorize our text data into numbers that can be used to train the classification models.\n",
    "\n",
    "Logistic Regression turned out to be the best estimator for this particular dataset we have in this project, along with the term frequency-inverse document frequency vectorizer. Our model had an accuracy of about 87% for train and 86% for test data. We can be satisfied with this result because we know we minimized the overfit and the gap between the train data (the data model was trained on) and test data (unseen data by model) is the smallest here. Also, among the two readily available stop words used in this project, the grid searching selected the `sklearn`'s in-built 'English' stop word list.\n",
    "\n",
    "In total, there were about 60 misclassifications out of the 430 test data observations. The top features with highest preditive power for each class were identified and discussed. Each subreddit has its own set of disparate creative words that are unique to them but cannot be compared together. So, we conclude that we identified some keywords for both topics but are not sure who could be more creative.\n",
    "\n",
    "Lastly, Logistic Regression does come with its caveats, like the assumption that the features have no/low multi-collinearity, the features have a linear relationship with the target variable, and generally it requires more data to capture the problem and even then it may not be able to build complex relationships. In the best model, according to grid search results, we use all the available tokens created by the vectorizer, and this is not a good choice because it may lead to overfitting with wider dataset. For these reasons, the other model used in this project, Multinomial Naive-Bayes, can give good results as well with a well-trimmed data. This can be looked into to improve the existing prediction capability.\n",
    "\n",
    "We can make the following recommendations based on this conclusions:\n",
    "1. We saw some plurals and words in different forms, which can be minimized by lemmatizing the text\n",
    "2. Usually Decision Trees by themselves, if not parametrized properly, tend to overfit but used with boosting could be good classifiers, and can be used in this project.\n",
    "3. Obtaining more data is always a good idea, but making \"good\" data by using more advanced text cleaning techniques can also be looked into."
   ]
  }
 ],
 "metadata": {
  "kernelspec": {
   "display_name": "Python 3",
   "language": "python",
   "name": "python3"
  },
  "language_info": {
   "codemirror_mode": {
    "name": "ipython",
    "version": 3
   },
   "file_extension": ".py",
   "mimetype": "text/x-python",
   "name": "python",
   "nbconvert_exporter": "python",
   "pygments_lexer": "ipython3",
   "version": "3.6.9"
  }
 },
 "nbformat": 4,
 "nbformat_minor": 2
}
